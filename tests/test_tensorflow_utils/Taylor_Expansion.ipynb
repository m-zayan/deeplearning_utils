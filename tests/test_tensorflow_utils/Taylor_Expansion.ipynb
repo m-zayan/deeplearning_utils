{
  "nbformat": 4,
  "nbformat_minor": 0,
  "metadata": {
    "colab": {
      "name": "Taylor Expansion.ipynb",
      "provenance": [],
      "collapsed_sections": []
    },
    "kernelspec": {
      "name": "python3",
      "display_name": "Python 3"
    }
  },
  "cells": [
    {
      "cell_type": "code",
      "metadata": {
        "id": "Sy5HzoPrAFEg"
      },
      "source": [
        "!git clone https://github.com/m-zayan/deeplearning_utils.git"
      ],
      "execution_count": 6,
      "outputs": []
    },
    {
      "cell_type": "code",
      "metadata": {
        "id": "I8dc690X49J6"
      },
      "source": [
        "import numpy as np\n",
        "\n",
        "import tensorflow as tf\n",
        "\n",
        "from tensorflow.keras.models import Model\n",
        "from tensorflow.keras.layers import Input\n",
        "\n",
        "from deeplearning_utils.tf.layers.taylor import AutoTaylorExpansion"
      ],
      "execution_count": 2,
      "outputs": []
    },
    {
      "cell_type": "code",
      "metadata": {
        "colab": {
          "base_uri": "https://localhost:8080/"
        },
        "id": "uEKhNzwyxZa5",
        "outputId": "01525a40-ccef-4431-8acc-3dec5f979a68"
      },
      "source": [
        "x = 45.0\n",
        "x = (np.pi / 180.0) * x\n",
        "x = tf.constant(x)\n",
        "\n",
        "\n",
        "for i in range(3, 8):\n",
        "\n",
        "  texp = AutoTaylorExpansion(a=1.0, func=tf.math.sin, n_terms=i)\n",
        "\n",
        "  err = abs(texp(x).numpy().sum() - np.sin(x))\n",
        "\n",
        "  print(err)"
      ],
      "execution_count": 3,
      "outputs": [
        {
          "output_type": "stream",
          "text": [
            "0.0013352036\n",
            "5.0902367e-05\n",
            "3.1590462e-06\n",
            "5.9604645e-08\n",
            "0.0\n"
          ],
          "name": "stdout"
        }
      ]
    },
    {
      "cell_type": "markdown",
      "metadata": {
        "id": "f-sHo-vb51Ep"
      },
      "source": [
        "# keras functional api"
      ]
    },
    {
      "cell_type": "code",
      "metadata": {
        "id": "nA642wER5ztH"
      },
      "source": [
        "inputs = Input(shape=(32, 32, 3))\n",
        "outputs = AutoTaylorExpansion(a=1.0, func=tf.math.sin, n_terms=3)(inputs)\n",
        "\n",
        "model = Model(inputs, outputs)"
      ],
      "execution_count": 4,
      "outputs": []
    },
    {
      "cell_type": "code",
      "metadata": {
        "colab": {
          "base_uri": "https://localhost:8080/"
        },
        "id": "dc5x4--z6W8J",
        "outputId": "6f056750-1e82-425e-934e-5c014488fee0"
      },
      "source": [
        "model.summary()"
      ],
      "execution_count": 5,
      "outputs": [
        {
          "output_type": "stream",
          "text": [
            "Model: \"model\"\n",
            "_________________________________________________________________\n",
            "Layer (type)                 Output Shape              Param #   \n",
            "=================================================================\n",
            "input_1 (InputLayer)         [(None, 32, 32, 3)]       0         \n",
            "_________________________________________________________________\n",
            "auto_taylor_expansion_5 (Aut (None, 32, 32, 3, 3)      0         \n",
            "=================================================================\n",
            "Total params: 0\n",
            "Trainable params: 0\n",
            "Non-trainable params: 0\n",
            "_________________________________________________________________\n"
          ],
          "name": "stdout"
        }
      ]
    }
  ]
}